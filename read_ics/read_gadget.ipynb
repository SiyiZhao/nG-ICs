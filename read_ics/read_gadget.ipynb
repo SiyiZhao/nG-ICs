{
 "cells": [
  {
   "cell_type": "markdown",
   "metadata": {},
   "source": [
    "# read Gadget snapshot file \n",
    "\n",
    "the ICs is output in Gadget format. \n",
    "\n",
    "We show how to read it refering to [Paco's tutorial](https://quijote-simulations.readthedocs.io/en/latest/Examples/Reading_snapshots.html). "
   ]
  },
  {
   "cell_type": "code",
   "execution_count": 2,
   "metadata": {},
   "outputs": [],
   "source": [
    "import numpy as np\n",
    "import readgadget\n",
    "import matplotlib.pyplot as plt"
   ]
  },
  {
   "cell_type": "code",
   "execution_count": 17,
   "metadata": {},
   "outputs": [],
   "source": [
    "snapshot = '/hscratch/siyizhao/ICs/test/ics_nonlocal_test'"
   ]
  },
  {
   "cell_type": "markdown",
   "metadata": {},
   "source": [
    "## header"
   ]
  },
  {
   "cell_type": "code",
   "execution_count": 24,
   "metadata": {},
   "outputs": [
    {
     "name": "stdout",
     "output_type": "stream",
     "text": [
      "BoxSize = 1200.000 Mpc/h\n",
      "Total number of particles: [       0 21952000        0        0        0        0]\n",
      "Masses of the particles: [0.00000000e+00 5.46198929e+12 0.00000000e+00 0.00000000e+00\n",
      " 0.00000000e+00 0.00000000e+00] Msun/h\n",
      "Omega_m = 0.250\n",
      "Omega_L = 0.750\n",
      "h = 0.700\n",
      "redshift = 49.000\n",
      "H(z=49.0)=17677.882 (km/s)/(Mpc/h)\n"
     ]
    }
   ],
   "source": [
    "# read header\n",
    "header   = readgadget.header(snapshot)\n",
    "BoxSize  = header.boxsize  #Mpc/h\n",
    "Nall     = header.nall         #Total number of particles\n",
    "Masses   = header.massarr*1e10 #Masses of the particles in Msun/h\n",
    "Omega_m  = header.omega_m      #value of Omega_m\n",
    "Omega_l  = header.omega_l      #value of Omega_l\n",
    "h        = header.hubble       #value of h\n",
    "redshift = header.redshift     #redshift of the snapshot\n",
    "Hubble   = 100.0 *np.sqrt(Omega_m*(1.0+redshift)**3+Omega_l)#Value of H(z) in km/s/(Mpc/h) \n",
    "\n",
    "print('BoxSize = %.3f Mpc/h'%BoxSize)\n",
    "print('Total number of particles:',Nall)\n",
    "print('Masses of the particles:',Masses, 'Msun/h')\n",
    "print('Omega_m = %.3f'%Omega_m)\n",
    "print('Omega_L = %.3f'%Omega_l)\n",
    "print('h = %.3f'%h)\n",
    "print('redshift = %.3f'%redshift)\n",
    "print('H(z=%.1f)=%.3f (km/s)/(Mpc/h)'%(redshift,Hubble))"
   ]
  },
  {
   "cell_type": "code",
   "execution_count": 19,
   "metadata": {},
   "outputs": [
    {
     "name": "stdout",
     "output_type": "stream",
     "text": [
      "Mass of a DM particle = 5.462e+12 Msun/h\n",
      "Number of DM particles = 21952000\n"
     ]
    }
   ],
   "source": [
    "mass_c = Masses[1]\n",
    "N_c = Nall[1]\n",
    "print('Mass of a DM particle = %.3e Msun/h'%mass_c)\n",
    "print('Number of DM particles = %d'%N_c)"
   ]
  },
  {
   "cell_type": "code",
   "execution_count": 20,
   "metadata": {},
   "outputs": [
    {
     "name": "stdout",
     "output_type": "stream",
     "text": [
      "0.2500 should be similar to\n",
      "0.2500\n"
     ]
    }
   ],
   "source": [
    "# we can check the value of Omega_m\n",
    "rho_crit = 2.775e11 #critical density at z=0 in (Msun/h)/(cMpc/h)^3\n",
    "estimated_Omega_m = N_c*mass_c/BoxSize**3/rho_crit\n",
    "print('%.4f should be similar to\\n%.4f'%(estimated_Omega_m,Omega_m))"
   ]
  },
  {
   "cell_type": "markdown",
   "metadata": {},
   "source": [
    "## particle position, velocity, and ID"
   ]
  },
  {
   "cell_type": "code",
   "execution_count": 21,
   "metadata": {},
   "outputs": [],
   "source": [
    "ptype = [1] #DM is 1, neutrinos is [2]\n",
    "pos   = readgadget.read_block(snapshot, \"POS \", ptype) #positions in Mpc/h\n",
    "vel   = readgadget.read_block(snapshot, \"VEL \", ptype)     #peculiar velocities in km/s\n",
    "ids   = readgadget.read_block(snapshot, \"ID  \", ptype)-1   #IDs starting from 0"
   ]
  },
  {
   "cell_type": "markdown",
   "metadata": {},
   "source": [
    "`readgadget` can automatically deal with the multiple files, as it knows and loops with (although I don't know how...)"
   ]
  },
  {
   "cell_type": "code",
   "execution_count": 23,
   "metadata": {},
   "outputs": [
    {
     "name": "stdout",
     "output_type": "stream",
     "text": [
      "file number = 4 \n"
     ]
    }
   ],
   "source": [
    "filenum = header.filenum\n",
    "print('file number = %i '%filenum)"
   ]
  },
  {
   "cell_type": "code",
   "execution_count": 29,
   "metadata": {},
   "outputs": [
    {
     "name": "stdout",
     "output_type": "stream",
     "text": [
      "0.000 < X  < 1200.000 Mpc/h\n",
      "0.000 < Y  < 1200.000 Mpc/h\n",
      "0.000 < Z  < 1200.000 Mpc/h\n",
      "-283.398 < Vx < 287.633 km/s\n",
      "-273.527 < Vy < 287.191 km/s\n",
      "-284.374 < Vz < 275.829 km/s\n",
      "0 < IDs < 21951999\n"
     ]
    }
   ],
   "source": [
    "print('%.3f < X  < %.3f Mpc/h'%(np.min(pos[:,0]), np.max(pos[:,0])))\n",
    "print('%.3f < Y  < %.3f Mpc/h'%(np.min(pos[:,1]), np.max(pos[:,1])))\n",
    "print('%.3f < Z  < %.3f Mpc/h'%(np.min(pos[:,2]), np.max(pos[:,2])))\n",
    "print('%.3f < Vx < %.3f km/s'%(np.min(vel[:,0]), np.max(vel[:,0])))\n",
    "print('%.3f < Vy < %.3f km/s'%(np.min(vel[:,1]), np.max(vel[:,1])))\n",
    "print('%.3f < Vz < %.3f km/s'%(np.min(vel[:,2]), np.max(vel[:,2])))\n",
    "print('%d < IDs < %d'%(np.min(ids), np.max(ids)))"
   ]
  },
  {
   "cell_type": "code",
   "execution_count": 30,
   "metadata": {},
   "outputs": [
    {
     "name": "stdout",
     "output_type": "stream",
     "text": [
      "position = [1.5531056e-01 1.1996548e+03 4.2712940e+01] Mpc/h\n",
      "velocity = [  55.03945 -121.75041  -50.89286] km/s\n",
      "ID = 10\n"
     ]
    }
   ],
   "source": [
    "# lets consider the particle number 10\n",
    "print('position =',pos[10],'Mpc/h')\n",
    "print('velocity =',vel[10],'km/s')\n",
    "print('ID =',ids[10])"
   ]
  },
  {
   "cell_type": "markdown",
   "metadata": {},
   "source": [
    "plot the velocity distribution of the particles."
   ]
  },
  {
   "cell_type": "code",
   "execution_count": 34,
   "metadata": {},
   "outputs": [
    {
     "data": {
      "image/png": "[encoded data removed]",
      "text/plain": [
       "<Figure size 640x480 with 1 Axes>"
      ]
     },
     "metadata": {},
     "output_type": "display_data"
    }
   ],
   "source": [
    "Vc = np.sqrt(vel[:,0]**2 + vel[:,1]**2 + vel[:,2]**2)\n",
    "bins_histo = np.logspace(0,5,1000)\n",
    "histo_Vc, edges = np.histogram(Vc, bins_histo)\n",
    "\n",
    "plt.xscale('log')\n",
    "plt.yscale('log')\n",
    "plt.xlabel('V')\n",
    "plt.ylabel('Particle number')\n",
    "plt.plot(edges[1:], histo_Vc)\n",
    "plt.legend(['Dark matter'])\n",
    "plt.show()"
   ]
  }
 ],
 "metadata": {
  "kernelspec": {
   "display_name": "base",
   "language": "python",
   "name": "python3"
  },
  "language_info": {
   "codemirror_mode": {
    "name": "ipython",
    "version": 3
   },
   "file_extension": ".py",
   "mimetype": "text/x-python",
   "name": "python",
   "nbconvert_exporter": "python",
   "pygments_lexer": "ipython3",
   "version": "3.9.13"
  }
 },
 "nbformat": 4,
 "nbformat_minor": 2
}
